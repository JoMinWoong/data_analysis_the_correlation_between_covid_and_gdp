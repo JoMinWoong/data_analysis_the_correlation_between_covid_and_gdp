{
 "cells": [
  {
   "cell_type": "code",
   "execution_count": 1,
   "metadata": {
    "editable": true
   },
   "outputs": [],
   "source": [
    "import pandas as pd"
   ]
  },
  {
   "cell_type": "code",
   "execution_count": 2,
   "metadata": {
    "editable": true
   },
   "outputs": [],
   "source": [
    "# CONFIGS\n",
    "\n",
    "import configparser\n",
    "\n",
    "config = configparser.ConfigParser()\n",
    "config.read('app.cfg')\n",
    "\n",
    "AWS_ACCESS_KEY = config.get('AWS', 'ACCESS_KEY')\n",
    "AWS_ACCESS_SECRET_KEY = config.get('AWS', 'SECRET_ACCESS_KEY')\n",
    "\n",
    "RED_HOST = config.get('REDSHIFT', 'HOST')\n",
    "RED_DBNAME = config.get('REDSHIFT', 'DBNAME')\n",
    "RED_USER = config.get('REDSHIFT', 'USER')\n",
    "RED_PASSWORD = config.get('REDSHIFT', 'PASSWORD')\n",
    "RED_PORT = config.get('REDSHIFT', 'PORT')"
   ]
  },
  {
   "cell_type": "code",
   "execution_count": 3,
   "metadata": {
    "editable": true
   },
   "outputs": [
    {
     "data": {
      "text/plain": [
       "['Country.csv',\n",
       " 'GDP.csv',\n",
       " 'country.csv',\n",
       " 'covid_date.csv',\n",
       " 'full-list-total-tests-for-covid-19.csv']"
      ]
     },
     "execution_count": 3,
     "metadata": {},
     "output_type": "execute_result"
    }
   ],
   "source": [
    "# read file from S3\n",
    "import boto3\n",
    "\n",
    "s3 = boto3.resource('s3',\n",
    "                       region_name=\"us-east-1\",\n",
    "                       aws_access_key_id=AWS_ACCESS_KEY,\n",
    "                       aws_secret_access_key=AWS_ACCESS_SECRET_KEY\n",
    "                   )\n",
    "bucket=s3.Bucket('final.project.krazy.gongryong')\n",
    "song_data_files = [filename.key for filename in bucket.objects.all()]\n",
    "song_data_files[:10]"
   ]
  },
  {
   "cell_type": "code",
   "execution_count": 4,
   "metadata": {
    "editable": true
   },
   "outputs": [
    {
     "data": {
      "text/html": [
       "<div>\n",
       "<style scoped>\n",
       "    .dataframe tbody tr th:only-of-type {\n",
       "        vertical-align: middle;\n",
       "    }\n",
       "\n",
       "    .dataframe tbody tr th {\n",
       "        vertical-align: top;\n",
       "    }\n",
       "\n",
       "    .dataframe thead th {\n",
       "        text-align: right;\n",
       "    }\n",
       "</style>\n",
       "<table border=\"1\" class=\"dataframe\">\n",
       "  <thead>\n",
       "    <tr style=\"text-align: right;\">\n",
       "      <th></th>\n",
       "      <th>Entity</th>\n",
       "      <th>Code</th>\n",
       "      <th>day</th>\n",
       "      <th>total_tests</th>\n",
       "      <th>annotations</th>\n",
       "    </tr>\n",
       "  </thead>\n",
       "  <tbody>\n",
       "    <tr>\n",
       "      <th>0</th>\n",
       "      <td>Albania</td>\n",
       "      <td>ALB</td>\n",
       "      <td>2020-02-25</td>\n",
       "      <td>8</td>\n",
       "      <td>tests performed</td>\n",
       "    </tr>\n",
       "    <tr>\n",
       "      <th>1</th>\n",
       "      <td>Albania</td>\n",
       "      <td>ALB</td>\n",
       "      <td>2020-02-26</td>\n",
       "      <td>13</td>\n",
       "      <td>tests performed</td>\n",
       "    </tr>\n",
       "    <tr>\n",
       "      <th>2</th>\n",
       "      <td>Albania</td>\n",
       "      <td>ALB</td>\n",
       "      <td>2020-02-27</td>\n",
       "      <td>17</td>\n",
       "      <td>tests performed</td>\n",
       "    </tr>\n",
       "    <tr>\n",
       "      <th>3</th>\n",
       "      <td>Albania</td>\n",
       "      <td>ALB</td>\n",
       "      <td>2020-02-28</td>\n",
       "      <td>18</td>\n",
       "      <td>tests performed</td>\n",
       "    </tr>\n",
       "    <tr>\n",
       "      <th>4</th>\n",
       "      <td>Albania</td>\n",
       "      <td>ALB</td>\n",
       "      <td>2020-02-29</td>\n",
       "      <td>26</td>\n",
       "      <td>tests performed</td>\n",
       "    </tr>\n",
       "  </tbody>\n",
       "</table>\n",
       "</div>"
      ],
      "text/plain": [
       "    Entity Code        day  total_tests      annotations\n",
       "0  Albania  ALB 2020-02-25            8  tests performed\n",
       "1  Albania  ALB 2020-02-26           13  tests performed\n",
       "2  Albania  ALB 2020-02-27           17  tests performed\n",
       "3  Albania  ALB 2020-02-28           18  tests performed\n",
       "4  Albania  ALB 2020-02-29           26  tests performed"
      ]
     },
     "execution_count": 4,
     "metadata": {},
     "output_type": "execute_result"
    }
   ],
   "source": [
    "# upload covid data file\n",
    "\n",
    "csv_file_covid_origin = 'data/full-list-total-tests-for-covid-19-origin.csv'\n",
    "csv_file_covid = 'data/full-list-total-tests-for-covid-19.csv'\n",
    "# bucket.download_file(song_data_files[3], csv_file_covid)\n",
    "df_covid = pd.read_csv(csv_file_covid_origin)\n",
    "df_covid['day'] = pd.to_datetime(df_covid['day'])\n",
    "df_covid.to_csv(csv_file_covid, index=False)\n",
    "bucket.upload_file(csv_file_covid, 'full-list-total-tests-for-covid-19.csv')\n",
    "df_covid.head(5)"
   ]
  },
  {
   "cell_type": "code",
   "execution_count": 5,
   "metadata": {
    "editable": true
   },
   "outputs": [
    {
     "data": {
      "text/html": [
       "<div>\n",
       "<style scoped>\n",
       "    .dataframe tbody tr th:only-of-type {\n",
       "        vertical-align: middle;\n",
       "    }\n",
       "\n",
       "    .dataframe tbody tr th {\n",
       "        vertical-align: top;\n",
       "    }\n",
       "\n",
       "    .dataframe thead th {\n",
       "        text-align: right;\n",
       "    }\n",
       "</style>\n",
       "<table border=\"1\" class=\"dataframe\">\n",
       "  <thead>\n",
       "    <tr style=\"text-align: right;\">\n",
       "      <th></th>\n",
       "      <th>date</th>\n",
       "      <th>year</th>\n",
       "      <th>month</th>\n",
       "      <th>day</th>\n",
       "      <th>weekday</th>\n",
       "      <th>day_of_year</th>\n",
       "    </tr>\n",
       "  </thead>\n",
       "  <tbody>\n",
       "    <tr>\n",
       "      <th>0</th>\n",
       "      <td>2020-02-25</td>\n",
       "      <td>2020</td>\n",
       "      <td>2</td>\n",
       "      <td>25</td>\n",
       "      <td>1</td>\n",
       "      <td>56</td>\n",
       "    </tr>\n",
       "    <tr>\n",
       "      <th>1</th>\n",
       "      <td>2020-02-26</td>\n",
       "      <td>2020</td>\n",
       "      <td>2</td>\n",
       "      <td>26</td>\n",
       "      <td>2</td>\n",
       "      <td>57</td>\n",
       "    </tr>\n",
       "    <tr>\n",
       "      <th>2</th>\n",
       "      <td>2020-02-27</td>\n",
       "      <td>2020</td>\n",
       "      <td>2</td>\n",
       "      <td>27</td>\n",
       "      <td>3</td>\n",
       "      <td>58</td>\n",
       "    </tr>\n",
       "    <tr>\n",
       "      <th>3</th>\n",
       "      <td>2020-02-28</td>\n",
       "      <td>2020</td>\n",
       "      <td>2</td>\n",
       "      <td>28</td>\n",
       "      <td>4</td>\n",
       "      <td>59</td>\n",
       "    </tr>\n",
       "    <tr>\n",
       "      <th>4</th>\n",
       "      <td>2020-02-29</td>\n",
       "      <td>2020</td>\n",
       "      <td>2</td>\n",
       "      <td>29</td>\n",
       "      <td>5</td>\n",
       "      <td>60</td>\n",
       "    </tr>\n",
       "  </tbody>\n",
       "</table>\n",
       "</div>"
      ],
      "text/plain": [
       "        date  year  month  day  weekday  day_of_year\n",
       "0 2020-02-25  2020      2   25        1           56\n",
       "1 2020-02-26  2020      2   26        2           57\n",
       "2 2020-02-27  2020      2   27        3           58\n",
       "3 2020-02-28  2020      2   28        4           59\n",
       "4 2020-02-29  2020      2   29        5           60"
      ]
     },
     "execution_count": 5,
     "metadata": {},
     "output_type": "execute_result"
    }
   ],
   "source": [
    "# upload date data\n",
    "csv_file_covid_date = 'data/covid_date.csv'\n",
    "\n",
    "df_covid_date = pd.DataFrame()\n",
    "df_covid_date['date'] = pd.to_datetime(df_covid['day']).drop_duplicates()\n",
    "\n",
    "df_covid_date['year'] = df_covid_date['date'].dt.year\n",
    "df_covid_date['month'] = df_covid_date['date'].dt.month\n",
    "df_covid_date['day'] = df_covid_date['date'].dt.day\n",
    "df_covid_date['weekday'] = df_covid_date['date'].dt.weekday\n",
    "df_covid_date['day_of_year'] = df_covid_date['date'].dt.dayofyear\n",
    "bucket.upload_file(csv_file_covid_date, 'covid_date.csv')\n",
    "\n",
    "df_covid_date.head(5)"
   ]
  },
  {
   "cell_type": "code",
   "execution_count": 6,
   "metadata": {
    "editable": true
   },
   "outputs": [],
   "source": [
    "# transform & upload country data to s3\n",
    "\n",
    "csv_file_country_origin = 'data/CountryOrigin.csv'\n",
    "csv_file_country = 'data/country.csv'\n",
    "df_country_origin = pd.read_csv(csv_file_country_origin)\n",
    "df_country = pd.DataFrame();\n",
    "df_country['countrycode'] = df_country_origin['CountryCode']\n",
    "df_country['shortname'] = df_country_origin['ShortName'].str[:250]\n",
    "df_country['tablename'] = df_country_origin['TableName'].str[:250]\n",
    "df_country['longname'] = df_country_origin['LongName'].str[:250]\n",
    "df_country['alpha2code'] = df_country_origin['Alpha2Code'].str[:250]\n",
    "df_country['currencyunit'] = df_country_origin['CurrencyUnit'].str[:250]\n",
    "df_country['specialnotes'] = df_country_origin['SpecialNotes'].str[:250]\n",
    "df_country['region'] = df_country_origin['Region'].str[:250]\n",
    "df_country['incomegroup'] = df_country_origin['IncomeGroup'].str[:250]\n",
    "df_country['wb2code'] = df_country_origin['Wb2Code'].str[:250]\n",
    "df_country.to_csv(csv_file_country, index=False)\n",
    "bucket.upload_file(csv_file_country, 'country.csv')"
   ]
  },
  {
   "cell_type": "code",
   "execution_count": 7,
   "metadata": {
    "editable": true
   },
   "outputs": [
    {
     "name": "stdout",
     "output_type": "stream",
     "text": [
      "DROP TABLE IF EXISTS covid_events\n",
      "DROP TABLE IF EXISTS gdp_dim\n",
      "DROP TABLE IF EXISTS country_dim\n",
      "DROP TABLE IF EXISTS covid_date_dim\n",
      "\n",
      "CREATE TABLE IF NOT EXISTS covid_events(\n",
      "  entity          VARCHAR,\n",
      "  code            VARCHAR,\n",
      "  day       VARCHAR,\n",
      "  total_tests          INTEGER,\n",
      "  annotations   VARCHAR\n",
      ");\n",
      "\n",
      "\n",
      "CREATE TABLE IF NOT EXISTS country_dim(\n",
      "  countrycode          VARCHAR,\n",
      "  shortname            VARCHAR,\n",
      "  tablename       VARCHAR,\n",
      "  longname          VARCHAR,\n",
      "  alpha2code   VARCHAR,\n",
      "  currencyunit   VARCHAR,\n",
      "  specialnotes   VARCHAR,\n",
      "  region   VARCHAR,\n",
      "  incomegroup   VARCHAR,\n",
      "  wb2code   VARCHAR,\n",
      "  PRIMARY KEY(countrycode)\n",
      ");\n",
      "\n",
      "\n",
      "CREATE TABLE IF NOT EXISTS gdp_dim(\n",
      "  country     VARCHAR,\n",
      "  ranking          INTEGER,\n",
      "  economy          VARCHAR,\n",
      "  dollars          INTEGER,\n",
      "  PRIMARY KEY(country)\n",
      ");\n",
      "\n",
      "\n",
      "CREATE TABLE IF NOT EXISTS covid_date_dim(\n",
      "  date        VARCHAR,\n",
      "  year        INTEGER,\n",
      "  month       INTEGER,\n",
      "  day         INTEGER,\n",
      "  weekday     INTEGER,\n",
      "  day_of_year INTEGER,\n",
      "  PRIMARY KEY(date)\n",
      ");\n",
      "\n"
     ]
    }
   ],
   "source": [
    "# create tables\n",
    "\n",
    "%run -i 'create_tables.py'"
   ]
  },
  {
   "cell_type": "code",
   "execution_count": 8,
   "metadata": {
    "editable": true
   },
   "outputs": [
    {
     "name": "stdout",
     "output_type": "stream",
     "text": [
      "\n",
      "    COPY covid_events FROM 's3://final.project.krazy.gongryong/full-list-total-tests-for-covid-19.csv'\n",
      "    IAM_ROLE 'arn:aws:iam::032073717423:role/dwhRole'\n",
      "    csv\n",
      "    IGNOREHEADER 1;\n",
      "\n",
      "\n",
      "    COPY country_dim\n",
      "    FROM 's3://final.project.krazy.gongryong/country.csv'\n",
      "    IAM_ROLE 'arn:aws:iam::032073717423:role/dwhRole'\n",
      "    csv\n",
      "    IGNOREHEADER 1;\n",
      "\n",
      "\n",
      "    COPY covid_date_dim FROM 's3://final.project.krazy.gongryong/covid_date.csv'\n",
      "    IAM_ROLE 'arn:aws:iam::032073717423:role/dwhRole'\n",
      "    csv\n",
      "    IGNOREHEADER 1;\n",
      "\n",
      "\n",
      "    COPY gdp_dim FROM 's3://final.project.krazy.gongryong/GDP.csv'\n",
      "    IAM_ROLE 'arn:aws:iam::032073717423:role/dwhRole'\n",
      "    csv\n",
      "    IGNOREHEADER 1;\n",
      "\n"
     ]
    }
   ],
   "source": [
    "# load data\n",
    "\n",
    "%run -i 'load_data.py'"
   ]
  },
  {
   "cell_type": "code",
   "execution_count": 36,
   "metadata": {
    "editable": true
   },
   "outputs": [
    {
     "name": "stdout",
     "output_type": "stream",
     "text": [
      "      0           1\n",
      "0   IND  4167336349\n",
      "1   RUS  2835338454\n",
      "2   GBR  1038130568\n",
      "3   ITA   773935667\n",
      "4   TUR   631095353\n",
      "5   DEU   532997526\n",
      "6   DNK   238672673\n",
      "7   AUS   238379973\n",
      "8   BEL   210104817\n",
      "9   POL   207153488\n",
      "10  PAK   202253190\n",
      "11  PHL   189487915\n",
      "12  KAZ   176842948\n",
      "13  PRT   171489436\n",
      "14  KOR   134780570\n",
      "15  MYS   117907799\n",
      "16  BGD   108412510\n",
      "17  JPN   108068858\n",
      "18  AUT   105975855\n",
      "19  IDN    91595968\n",
      "20  UKR    83414157\n",
      "21  GRC    76058520\n",
      "22  NLD    73990571\n",
      "23  IRL    72570051\n",
      "24  NOR    69382603\n",
      "25  CHE    68391067\n",
      "26  SRB    66743942\n",
      "27  FIN    65776459\n",
      "28  THA    64129404\n",
      "29  NPL    56707812\n",
      "30  HUN    50569716\n",
      "31  LTU    48770240\n",
      "32  SVK    48204855\n",
      "33  LUX    48024130\n",
      "34  NZL    47310292\n",
      "35  BGR    30754373\n",
      "36  BLR    30325572\n",
      "37  MMR    26768287\n",
      "38  LKA    24383611\n",
      "39  LVA    22568534\n",
      "40  HRV    19599023\n",
      "41  SVN    17292200\n",
      "42  VNM    15279657\n",
      "43  HKG     4031954\n",
      "44  SGP      246254\n"
     ]
    }
   ],
   "source": [
    "# query data\n",
    "\n",
    "import psycopg2\n",
    "\n",
    "conn=psycopg2.connect(dbname= RED_DBNAME, host=RED_HOST, port= RED_PORT, user= RED_USER, password= RED_PASSWORD)\n",
    "cur = conn.cursor()\n",
    "no_duplicated_event_log = True\n",
    "no_normalized_timestamp = True\n",
    "\n",
    "# data quality check\n",
    "# 1. there is no duplicated event log\n",
    "cur.execute(\"\"\"\n",
    "select \n",
    "  count(*) \n",
    "from \n",
    "  (\n",
    "    select \n",
    "      count(*) as count_g \n",
    "    from \n",
    "      public.covid_events \n",
    "    group by \n",
    "      entity, \n",
    "      code, \n",
    "      day\n",
    "  ) \n",
    "where \n",
    "  count_g > 1;\n",
    "\"\"\")\n",
    "if (cur.fetchone()[0] > 0):\n",
    "    print('there are duplicated covid event data')\n",
    "    print(result[0])\n",
    "    no_normalized_timestamp = False\n",
    "\n",
    "# 2. check if there is no normalized time data\n",
    "cur.execute(\"\"\"\n",
    "SELECT count(*) FROM covid_events ce\n",
    "FULL OUTER JOIN covid_date_dim cd\n",
    "ON ce.day = cd.date\n",
    "WHERE ce.day IS NULL\n",
    "OR cd.date IS NULL\n",
    "\"\"\")\n",
    "if (cur.fetchone()[0] > 0):\n",
    "    print('there are event data with un-normalized timestamp')\n",
    "    print(result[0])\n",
    "    no_normalized_timestamp = False\n",
    "\n",
    "if no_normalized_timestamp and no_normalized_timestamp:\n",
    "    # get the total test results of the countries in asia in top 100 GDP\n",
    "    cur.execute(\"\"\"\n",
    "    select ce.code, sum(ce.total_tests) as total_tests  From covid_events as ce\n",
    "    left join covid_date_dim as cdd on ce.day = cdd.date\n",
    "    left join gdp_dim as gd on ce.code = gd.country\n",
    "    left join country_dim as cd on ce.code = cd.countrycode\n",
    "    where gd.ranking < 100\n",
    "    and cdd.year = 2020\n",
    "    and cdd.weekday in (5, 6)\n",
    "    and cd.region like '%Asia%'\n",
    "    group by ce.code\n",
    "    order by total_tests DESC\n",
    "    \"\"\")\n",
    "    result = pd.DataFrame(cur.fetchall())\n",
    "    print(result)\n",
    "else:\n",
    "    print('Data quality check falied.')\n",
    "\n",
    "cur.close() \n",
    "conn.close()\n"
   ]
  },
  {
   "cell_type": "code",
   "execution_count": null,
   "metadata": {
    "editable": true
   },
   "outputs": [],
   "source": []
  },
  {
   "cell_type": "code",
   "execution_count": null,
   "metadata": {
    "editable": true
   },
   "outputs": [],
   "source": []
  },
  {
   "cell_type": "code",
   "execution_count": null,
   "metadata": {
    "editable": true
   },
   "outputs": [],
   "source": []
  }
 ],
 "metadata": {
  "kernelspec": {
   "display_name": "Python 3",
   "language": "python",
   "name": "python3"
  },
  "language_info": {
   "codemirror_mode": {
    "name": "ipython",
    "version": 3
   },
   "file_extension": ".py",
   "mimetype": "text/x-python",
   "name": "python",
   "nbconvert_exporter": "python",
   "pygments_lexer": "ipython3",
   "version": "3.6.3"
  }
 },
 "nbformat": 4,
 "nbformat_minor": 4
}
